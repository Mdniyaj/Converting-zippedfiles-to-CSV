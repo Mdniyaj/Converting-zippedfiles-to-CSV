{
 "cells": [
  {
   "cell_type": "code",
   "execution_count": null,
   "metadata": {},
   "outputs": [],
   "source": [
    "import zipfile\n",
    "import os\n",
    "\n",
    "# Directory where your zip files are located\n",
    "zip_dir = \"C:/Users/CPHS/Zipped_files\"  # Replace with your actual zip files directory\n",
    "\n",
    "# Directory where you want to extract the CSV files\n",
    "extract_dir = \"C:/Users/CPHS/Consumption Pyramids_CSV\"  # Replace with your desired output directory\n",
    "os.makedirs(extract_dir, exist_ok=True)  # Create the directory if it doesn't exist\n",
    "\n",
    "# Loop through each zip file in the specified directory\n",
    "for zip_file in os.listdir(zip_dir):\n",
    "    if zip_file.endswith('.zip'):\n",
    "        zip_file_path = os.path.join(zip_dir, zip_file)\n",
    "\n",
    "        # Open the zip file and extract only CSV files\n",
    "        with zipfile.ZipFile(zip_file_path, 'r') as zip_ref:\n",
    "            for file in zip_ref.namelist():\n",
    "                # Check if the file is a CSV\n",
    "                if file.endswith('.csv'):\n",
    "                    # Extract the CSV file to the specified directory\n",
    "                    zip_ref.extract(file, extract_dir)\n",
    "                    print(f\"Extracted: {file} from {zip_file}\")\n"
   ]
  }
 ],
 "metadata": {
  "language_info": {
   "name": "python"
  }
 },
 "nbformat": 4,
 "nbformat_minor": 2
}
